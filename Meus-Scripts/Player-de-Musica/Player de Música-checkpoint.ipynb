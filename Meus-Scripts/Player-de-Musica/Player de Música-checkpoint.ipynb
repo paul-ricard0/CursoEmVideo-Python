{
 "cells": [
  {
   "cell_type": "code",
   "execution_count": null,
   "metadata": {},
   "outputs": [],
   "source": [
    "import pygame\n",
    "\n",
    "pygame.mixer.init() #Iniciando a biblioteca pygame\n",
    "\n",
    "\n",
    "print('')\n",
    "\n",
    "desejo = input('O que você deseja meu rei??? ')\n",
    "\n",
    "stop=''\n",
    "escolha=0\n",
    "\n",
    "while escolha != 6:\n",
    "    \n",
    "    print(''' \n",
    "    \n",
    "    [1] Recaídas da Gasosa\n",
    "    [2] Thurzito mando a braba\n",
    "    [3] Josefin de Sei lá o q\n",
    "    [4] Xamazin no Faroeste Caboclo\n",
    "    [5] Fabio Brzza Erra nunk???\n",
    "    [6] Exit\n",
    "    \n",
    "    '''\n",
    "    )\n",
    "    \n",
    "    escolha=int(input('Qual vc quer cu de fossa?? '))\n",
    "    \n",
    "    if escolha == 1:\n",
    "        pygame.mixer.music.load('recaidas.mp3')\n",
    "    elif escolha == 2:\n",
    "        pygame.mixer.music.load('maginkz.mp3')\n",
    "        print('Tocando ')\n",
    "    elif escolha == 3:    \n",
    "        pygame.mixer.music.load('josefin.mp3')\n",
    "        print('Tocando ')\n",
    "    elif escolha == 4:\n",
    "        pygame.mixer.music.load('xamaFaroeste.mp3')\n",
    "        print('Tocando ')\n",
    "    elif escolha == 5:\n",
    "        pygame.mixer.music.load('brazza.mp3')\n",
    "        print('Tocando ')\n",
    "    elif escolha == 6:\n",
    "        escolha = 10\n",
    "        \n",
    "    else:\n",
    "        print('!!! Número Inválido!!!')\n",
    "        print('==' * 10)   \n",
    "        stop = 'x'\n",
    "    \n",
    "    print('Tocando... ')\n",
    "    escolha=print('Aperte [ 0 ] para voltar ao menu')\n",
    "    \n",
    "\n",
    "    \n",
    "print('Fimm!!!'')\n",
    "\n",
    "\n",
    "\n",
    "\n",
    "\n",
    "\n",
    "#pygame.mixer.music.play()\n",
    "#pygame.event.wait()"
   ]
  },
  {
   "cell_type": "code",
   "execution_count": null,
   "metadata": {},
   "outputs": [],
   "source": [
    "asdsa"
   ]
  },
  {
   "cell_type": "code",
   "execution_count": null,
   "metadata": {},
   "outputs": [],
   "source": []
  }
 ],
 "metadata": {
  "kernelspec": {
   "display_name": "Python 3",
   "language": "python",
   "name": "python3"
  },
  "language_info": {
   "codemirror_mode": {
    "name": "ipython",
    "version": 3
   },
   "file_extension": ".py",
   "mimetype": "text/x-python",
   "name": "python",
   "nbconvert_exporter": "python",
   "pygments_lexer": "ipython3",
   "version": "3.8.5"
  }
 },
 "nbformat": 4,
 "nbformat_minor": 4
}
